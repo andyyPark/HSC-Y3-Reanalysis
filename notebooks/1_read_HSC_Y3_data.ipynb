{
 "cells": [
  {
   "cell_type": "code",
   "execution_count": 13,
   "metadata": {},
   "outputs": [],
   "source": [
    "import os\n",
    "import numpy as np\n",
    "import matplotlib.pyplot as plt\n",
    "import astropy.io.fits as pyfits\n",
    "from utils_shear_ana import catutil"
   ]
  },
  {
   "cell_type": "markdown",
   "metadata": {},
   "source": [
    "# Calculate average multiplicative bias and shear response"
   ]
  },
  {
   "cell_type": "code",
   "execution_count": 14,
   "metadata": {},
   "outputs": [],
   "source": [
    "data_z1 = []\n",
    "data_dir = os.environ.get(\"HSCY3_DATADIR\", \"/hildafs/datasets/shared_phy200017p/HSC_shape_catalog_Y3/catalog_obs_reGaus_public\")\n",
    "for fieldname in [\"XMM\", \"VVDS\", \"HECTOMAP\", \"GAMA09H\", \"WIDE12H\", \"GAMA15H\"]:\n",
    "    file_name = os.path.join(data_dir, \"%s.fits\" % fieldname)\n",
    "    data = pyfits.getdata(file_name)\n",
    "    sel = (data[\"hsc_y3_zbin\"] ==1) & (data[\"b_mode_mask\"])\n",
    "    data_z1.append(data[sel])\n",
    "data_z1 = np.hstack(data_z1)\n",
    "wsum = np.sum(data_z1['i_hsmshaperegauss_derived_weight'])"
   ]
  },
  {
   "cell_type": "code",
   "execution_count": 15,
   "metadata": {},
   "outputs": [],
   "source": [
    "# Multiplicative bias\n",
    "mbias = np.sum(\n",
    "    data_z1['i_hsmshaperegauss_derived_shear_bias_m']\n",
    "    * data_z1['i_hsmshaperegauss_derived_weight']\n",
    ") / wsum\n",
    "\n",
    "# Regauss Shear response\n",
    "response = 1 - np.sum(\n",
    "    data_z1['i_hsmshaperegauss_derived_rms_e']**2.0\n",
    "    * data_z1['i_hsmshaperegauss_derived_weight']\n",
    ") / wsum\n",
    "\n",
    "# Selection bias\n",
    "msel, asel, msel_err, asel_err = catutil.get_sel_bias(\n",
    "    data_z1['i_hsmshaperegauss_derived_weight'],\n",
    "    data_z1['i_apertureflux_10_mag'],\n",
    "    data_z1['i_hsmshaperegauss_resolution'],\n",
    ")"
   ]
  },
  {
   "cell_type": "markdown",
   "metadata": {},
   "source": [
    "# Transfor the shape catalog to shear catalog"
   ]
  },
  {
   "cell_type": "code",
   "execution_count": 16,
   "metadata": {},
   "outputs": [],
   "source": [
    "# shear\n",
    "g1, g2 = catutil.get_shear_regauss(data_z1, mbias, msel, asel)\n",
    "# position\n",
    "ra, dec = catutil.get_radec(data_z1)\n",
    "# weight\n",
    "weight = catutil.get_shape_weight_regauss(data_z1)"
   ]
  },
  {
   "cell_type": "code",
   "execution_count": 23,
   "metadata": {},
   "outputs": [
    {
     "data": {
      "image/png": "[encoded data removed]",
      "text/plain": [
       "<Figure size 640x480 with 1 Axes>"
      ]
     },
     "metadata": {},
     "output_type": "display_data"
    }
   ],
   "source": [
    "plt.hist(g1, bins=20, density=True, alpha=0.3);\n",
    "plt.hist(g2, bins=20, density=True, alpha=0.3);"
   ]
  }
 ],
 "metadata": {
  "kernelspec": {
   "display_name": "Python 3",
   "language": "python",
   "name": "python3"
  },
  "language_info": {
   "codemirror_mode": {
    "name": "ipython",
    "version": 3
   },
   "file_extension": ".py",
   "mimetype": "text/x-python",
   "name": "python",
   "nbconvert_exporter": "python",
   "pygments_lexer": "ipython3",
   "version": "3.10.10"
  }
 },
 "nbformat": 4,
 "nbformat_minor": 2
}
